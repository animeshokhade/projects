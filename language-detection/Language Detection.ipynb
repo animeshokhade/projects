{
 "cells": [
  {
   "cell_type": "markdown",
   "id": "4b9946c6-17ee-4411-99f8-c292b9d42eee",
   "metadata": {},
   "source": [
    "Useful for event driven programs where the final output depends on the language which the user provides as an input. For this project, the langdetect package in Python is used. "
   ]
  },
  {
   "cell_type": "code",
   "execution_count": 2,
   "id": "99f96dec-c6a6-4325-9a6f-a72382df3e01",
   "metadata": {},
   "outputs": [
    {
     "name": "stdin",
     "output_type": "stream",
     "text": [
      "Type in your preferred langauge:  Hello World\n"
     ]
    },
    {
     "name": "stdout",
     "output_type": "stream",
     "text": [
      "en\n"
     ]
    }
   ],
   "source": [
    "from langdetect import detect\n",
    "text = input('Type in your preferred langauge: ')\n",
    "print(detect(text))"
   ]
  },
  {
   "cell_type": "code",
   "execution_count": 3,
   "id": "51d2934e-ba39-4954-8895-087240a82fac",
   "metadata": {},
   "outputs": [
    {
     "name": "stdin",
     "output_type": "stream",
     "text": [
      "Type in your preferred langauge:  À vaillant coeur rien d’impossible. -Jacques Cœur\n"
     ]
    },
    {
     "name": "stdout",
     "output_type": "stream",
     "text": [
      "fr\n"
     ]
    }
   ],
   "source": [
    "text = input('Type in your preferred langauge: ')\n",
    "print(detect(text))"
   ]
  },
  {
   "cell_type": "code",
   "execution_count": 6,
   "id": "6245102c-6cf0-423c-bf5d-232435bb0295",
   "metadata": {},
   "outputs": [
    {
     "name": "stdin",
     "output_type": "stream",
     "text": [
      "Type in your preferred langauge:  कर शपथ, कर शपथ, कर शपथ, अग्निपथ अग्निपथ अग्निपथ।\n"
     ]
    },
    {
     "name": "stdout",
     "output_type": "stream",
     "text": [
      "hi\n"
     ]
    }
   ],
   "source": [
    "text = input('Type in your preferred langauge: ')\n",
    "print(detect(text))"
   ]
  }
 ],
 "metadata": {
  "kernelspec": {
   "display_name": "Python 3 (ipykernel)",
   "language": "python",
   "name": "python3"
  },
  "language_info": {
   "codemirror_mode": {
    "name": "ipython",
    "version": 3
   },
   "file_extension": ".py",
   "mimetype": "text/x-python",
   "name": "python",
   "nbconvert_exporter": "python",
   "pygments_lexer": "ipython3",
   "version": "3.9.12"
  }
 },
 "nbformat": 4,
 "nbformat_minor": 5
}
