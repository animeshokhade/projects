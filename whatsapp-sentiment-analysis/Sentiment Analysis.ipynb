{
 "cells": [
  {
   "cell_type": "markdown",
   "id": "bcec60c9-b0be-4ee8-a3ed-051874d8c788",
   "metadata": {},
   "source": [
    "Whatsapp is a great source of data to analyse patterns and relationships between two or more people chatting personally or even in groups. "
   ]
  },
  {
   "cell_type": "markdown",
   "id": "23bcc2a6-47d8-492e-b5c0-c1fb8dca7ba4",
   "metadata": {},
   "source": [
    "Initially some helper functions have to be defined, as the data exported from the Whatsapp group is not readymade. So, some preprocessing is required.  "
   ]
  },
  {
   "cell_type": "code",
   "execution_count": 5,
   "id": "0721cae1-708e-42ce-bc46-8ad254a5b98a",
   "metadata": {},
   "outputs": [],
   "source": [
    "import re\n",
    "import pandas as pd\n",
    "import numpy as np \n",
    "import emoji \n",
    "from collections import Counter\n",
    "import matplotlib.pyplot as plt \n",
    "from PIL import Image \n",
    "from wordcloud import WordCloud, STOPWORDS, ImageColorGenerator "
   ]
  },
  {
   "cell_type": "code",
   "execution_count": 6,
   "id": "8af40ef2-3c4b-4418-938b-21d586d4e935",
   "metadata": {},
   "outputs": [],
   "source": [
    "# extract time\n",
    "def date_time(s):\n",
    "    pattern = '^([0-9]+)(\\/)([0-9]+)(\\/)([0-9]+), ([0-9]+):([0-9]+)[ ]?(AM|PM|am|pm)? -'\n",
    "    result = re.match(pattern, s)\n",
    "    if result: return True\n",
    "    return False "
   ]
  },
  {
   "cell_type": "code",
   "execution_count": 7,
   "id": "10a4e909-1c32-4e68-849f-9008f2fef554",
   "metadata": {},
   "outputs": [],
   "source": [
    "# find authors or contacts \n",
    "def find_author(s):\n",
    "    s = s.split(':')\n",
    "    if len(s) == 2: return True\n",
    "    else: return False "
   ]
  },
  {
   "cell_type": "code",
   "execution_count": 10,
   "id": "60130fcd-8bc7-477d-a812-48ba49565243",
   "metadata": {},
   "outputs": [],
   "source": [
    "# finding messages \n",
    "def getDatapoint(line):\n",
    "    splitline = line.split(' - ')\n",
    "    dateTime = splitline[0]\n",
    "    date, time = dateTime.split(', ')\n",
    "    message = ' '.join(splitline[1:])\n",
    "    if find_author(message):\n",
    "        splitmessage = message.split(': ')\n",
    "        author = splitmessage[0]\n",
    "        message = ' '.join(splitmessage[1:])\n",
    "    else: author = None \n",
    "    return date, time, author, message"
   ]
  },
  {
   "cell_type": "markdown",
   "id": "a5f8066a-e8c5-45ac-b228-287f398ec635",
   "metadata": {},
   "source": [
    "This model is agnostic to individual conversations or group chats. The above defined functions process data for conducting Sentiment Analysis."
   ]
  },
  {
   "cell_type": "code",
   "execution_count": 11,
   "id": "ec806b1f-e2b9-4473-9de1-1e42bcb0c50a",
   "metadata": {},
   "outputs": [],
   "source": [
    "data = []\n",
    "conversation = 'WhatsApp Chat with Acad Feb 22 Int tue 2.txt'\n",
    "with open(conversation, encoding = 'utf-8') as fp: \n",
    "    fp.readline()\n",
    "    messageBuffer = []\n",
    "    date, time, author = None, None, None \n",
    "    while True: \n",
    "        line = fp.readline()\n",
    "        if not line: break\n",
    "        line = line.strip()\n",
    "        if date_time(line):\n",
    "            if len(messageBuffer) > 0: \n",
    "                data.append([date, time, author, ' '.join(messageBuffer)])\n",
    "            messageBuffer.clear()\n",
    "            date, time, author, message = getDatapoint(line)\n",
    "            messageBuffer.append(message)\n",
    "        else: \n",
    "            messageBuffer.append(line)"
   ]
  },
  {
   "cell_type": "code",
   "execution_count": 17,
   "id": "b0ed6ab2-2c1a-4648-b048-3e402a7c5ac5",
   "metadata": {},
   "outputs": [
    {
     "name": "stderr",
     "output_type": "stream",
     "text": [
      "[nltk_data] Downloading package vader_lexicon to\n",
      "[nltk_data]     /Users/animesh/nltk_data...\n",
      "[nltk_data]   Package vader_lexicon is already up-to-date!\n"
     ]
    },
    {
     "data": {
      "text/html": [
       "<div>\n",
       "<style scoped>\n",
       "    .dataframe tbody tr th:only-of-type {\n",
       "        vertical-align: middle;\n",
       "    }\n",
       "\n",
       "    .dataframe tbody tr th {\n",
       "        vertical-align: top;\n",
       "    }\n",
       "\n",
       "    .dataframe thead th {\n",
       "        text-align: right;\n",
       "    }\n",
       "</style>\n",
       "<table border=\"1\" class=\"dataframe\">\n",
       "  <thead>\n",
       "    <tr style=\"text-align: right;\">\n",
       "      <th></th>\n",
       "      <th>Date</th>\n",
       "      <th>Time</th>\n",
       "      <th>Author</th>\n",
       "      <th>Message</th>\n",
       "      <th>Positive</th>\n",
       "      <th>Negative</th>\n",
       "      <th>Neutral</th>\n",
       "    </tr>\n",
       "  </thead>\n",
       "  <tbody>\n",
       "    <tr>\n",
       "      <th>1</th>\n",
       "      <td>2022-03-05</td>\n",
       "      <td>8:41 am</td>\n",
       "      <td>Animesh</td>\n",
       "      <td>&lt;Media omitted&gt;</td>\n",
       "      <td>0.0</td>\n",
       "      <td>0.0</td>\n",
       "      <td>1.0</td>\n",
       "    </tr>\n",
       "    <tr>\n",
       "      <th>2</th>\n",
       "      <td>2022-03-05</td>\n",
       "      <td>8:48 am</td>\n",
       "      <td>sourabh</td>\n",
       "      <td>when it will give index out of bound range?</td>\n",
       "      <td>0.0</td>\n",
       "      <td>0.0</td>\n",
       "      <td>1.0</td>\n",
       "    </tr>\n",
       "    <tr>\n",
       "      <th>3</th>\n",
       "      <td>2022-03-05</td>\n",
       "      <td>8:48 am</td>\n",
       "      <td>sourabh</td>\n",
       "      <td>u r using x or x-1.. how it would give index o...</td>\n",
       "      <td>0.0</td>\n",
       "      <td>0.0</td>\n",
       "      <td>1.0</td>\n",
       "    </tr>\n",
       "    <tr>\n",
       "      <th>4</th>\n",
       "      <td>2022-03-05</td>\n",
       "      <td>8:48 am</td>\n",
       "      <td>sourabh</td>\n",
       "      <td>but if u r talking about -1,-2 index then</td>\n",
       "      <td>0.0</td>\n",
       "      <td>0.0</td>\n",
       "      <td>1.0</td>\n",
       "    </tr>\n",
       "    <tr>\n",
       "      <th>5</th>\n",
       "      <td>2022-03-05</td>\n",
       "      <td>8:49 am</td>\n",
       "      <td>Animesh</td>\n",
       "      <td>Hold on I'll provide the sol</td>\n",
       "      <td>0.0</td>\n",
       "      <td>0.0</td>\n",
       "      <td>1.0</td>\n",
       "    </tr>\n",
       "  </tbody>\n",
       "</table>\n",
       "</div>"
      ],
      "text/plain": [
       "        Date     Time   Author  \\\n",
       "1 2022-03-05  8:41 am  Animesh   \n",
       "2 2022-03-05  8:48 am  sourabh   \n",
       "3 2022-03-05  8:48 am  sourabh   \n",
       "4 2022-03-05  8:48 am  sourabh   \n",
       "5 2022-03-05  8:49 am  Animesh   \n",
       "\n",
       "                                             Message  Positive  Negative  \\\n",
       "1                                    <Media omitted>       0.0       0.0   \n",
       "2        when it will give index out of bound range?       0.0       0.0   \n",
       "3  u r using x or x-1.. how it would give index o...       0.0       0.0   \n",
       "4          but if u r talking about -1,-2 index then       0.0       0.0   \n",
       "5                       Hold on I'll provide the sol       0.0       0.0   \n",
       "\n",
       "   Neutral  \n",
       "1      1.0  \n",
       "2      1.0  \n",
       "3      1.0  \n",
       "4      1.0  \n",
       "5      1.0  "
      ]
     },
     "execution_count": 17,
     "metadata": {},
     "output_type": "execute_result"
    }
   ],
   "source": [
    "# Sentiment Analysis \n",
    "df = pd.DataFrame(data, columns = ['Date', 'Time', 'Author', 'Message'])\n",
    "df['Date'] = pd.to_datetime(df['Date'])\n",
    "\n",
    "data = df.dropna()\n",
    "import nltk\n",
    "nltk.downloader.download('vader_lexicon')\n",
    "from nltk.sentiment.vader import SentimentIntensityAnalyzer\n",
    "sentiments = SentimentIntensityAnalyzer()\n",
    "data['Positive'] = [sentiments.polarity_scores(i)['pos'] for i in data['Message']]\n",
    "data['Negative'] = [sentiments.polarity_scores(i)['neg'] for i in data['Message']]\n",
    "data['Neutral'] = [sentiments.polarity_scores(i)['neu'] for i in data['Message']]\n",
    "data.head()"
   ]
  },
  {
   "cell_type": "code",
   "execution_count": 18,
   "id": "dcf84fab-1bfb-48a1-a770-f58f33ec358e",
   "metadata": {},
   "outputs": [
    {
     "name": "stdout",
     "output_type": "stream",
     "text": [
      "Neutral 🙂\n"
     ]
    }
   ],
   "source": [
    "x = sum(data['Positive'])\n",
    "y = sum(data['Negative'])\n",
    "z = sum(data['Neutral'])\n",
    "\n",
    "def sentiment_score(a, b, c):\n",
    "    if a > b and a > c: \n",
    "        print('Positive 😊')\n",
    "    elif b > a and b > c: \n",
    "        print('Negative 😠')\n",
    "    else: \n",
    "        print('Neutral 🙂')\n",
    "\n",
    "sentiment_score(x, y, z)"
   ]
  }
 ],
 "metadata": {
  "kernelspec": {
   "display_name": "Python 3 (ipykernel)",
   "language": "python",
   "name": "python3"
  },
  "language_info": {
   "codemirror_mode": {
    "name": "ipython",
    "version": 3
   },
   "file_extension": ".py",
   "mimetype": "text/x-python",
   "name": "python",
   "nbconvert_exporter": "python",
   "pygments_lexer": "ipython3",
   "version": "3.9.12"
  }
 },
 "nbformat": 4,
 "nbformat_minor": 5
}
